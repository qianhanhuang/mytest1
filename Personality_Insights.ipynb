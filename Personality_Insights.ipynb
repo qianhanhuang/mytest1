{
  "nbformat": 4,
  "nbformat_minor": 0,
  "metadata": {
    "kernelspec": {
      "display_name": "Python 3",
      "language": "python",
      "name": "python3"
    },
    "language_info": {
      "codemirror_mode": {
        "name": "ipython",
        "version": 3
      },
      "file_extension": ".py",
      "mimetype": "text/x-python",
      "name": "python",
      "nbconvert_exporter": "python",
      "pygments_lexer": "ipython3",
      "version": "3.6.8"
    },
    "colab": {
      "name": "Personality Insights.ipynb",
      "provenance": []
    }
  },
  "cells": [
    {
      "cell_type": "markdown",
      "metadata": {
        "id": "SunKVFZlECub",
        "colab_type": "text"
      },
      "source": [
        "# How to Develop Customer Profiles Using IBM Watson Personality Insights\n",
        "\n",
        "This notebook accompanies the following blog post. https://www.nicholasrenotte.com/how-to-develop-customer-profiles-using-ibm-watson-personality-insights/\n",
        "\n",
        "<b>Step 1</b> covers how to create a service from the IBM Cloud platform. This code commences at step two in the post. "
      ]
    },
    {
      "cell_type": "markdown",
      "metadata": {
        "id": "bmZQkx4NECue",
        "colab_type": "text"
      },
      "source": [
        "## 2. Connecting to the Service"
      ]
    },
    {
      "cell_type": "code",
      "metadata": {
        "id": "7uHCYrCWECui",
        "colab_type": "code",
        "colab": {}
      },
      "source": [
        "import requests\n",
        "import json\n",
        "from watson_developer_cloud import PersonalityInsightsV3"
      ],
      "execution_count": 0,
      "outputs": []
    },
    {
      "cell_type": "code",
      "metadata": {
        "id": "ozreuIeRECuy",
        "colab_type": "code",
        "colab": {}
      },
      "source": [
        "# Create this API Key When you create the service\n",
        "apikey = '' #<<< Enter your API Key Here"
      ],
      "execution_count": 0,
      "outputs": []
    },
    {
      "cell_type": "code",
      "metadata": {
        "id": "2Q_BnaQIECu9",
        "colab_type": "code",
        "colab": {}
      },
      "source": [
        "# This url is available from the manage page of the service\n",
        "url = 'https://gateway-syd.watsonplatform.net/personality-insights/api'"
      ],
      "execution_count": 0,
      "outputs": []
    },
    {
      "cell_type": "code",
      "metadata": {
        "id": "NHLjyx7VECvG",
        "colab_type": "code",
        "colab": {}
      },
      "source": [
        "service = PersonalityInsightsV3(url=url, version='2017-10-13', iam_apikey=apikey)"
      ],
      "execution_count": 0,
      "outputs": []
    },
    {
      "cell_type": "markdown",
      "metadata": {
        "id": "6WmVqve1ECvQ",
        "colab_type": "text"
      },
      "source": [
        "## 3. Creating a Basic Profile from a Text File"
      ]
    },
    {
      "cell_type": "code",
      "metadata": {
        "id": "4DWlUXhfECvR",
        "colab_type": "code",
        "colab": {}
      },
      "source": [
        "with open('profile.txt') as f:\n",
        "    profile = service.profile(f.read(), content_type='text/plain',).get_result()"
      ],
      "execution_count": 0,
      "outputs": []
    },
    {
      "cell_type": "code",
      "metadata": {
        "id": "9CsoiFrBECvb",
        "colab_type": "code",
        "colab": {}
      },
      "source": [
        "# Check the available keys\n",
        "profile.keys()"
      ],
      "execution_count": 0,
      "outputs": []
    },
    {
      "cell_type": "code",
      "metadata": {
        "id": "D_RUUPn0ECvi",
        "colab_type": "code",
        "colab": {}
      },
      "source": [
        "# Check for any warnings\n",
        "len(profile['warnings'])"
      ],
      "execution_count": 0,
      "outputs": []
    },
    {
      "cell_type": "code",
      "metadata": {
        "id": "82UKDD5nECvq",
        "colab_type": "code",
        "colab": {}
      },
      "source": [
        "# Review word count processed\n",
        "profile['word_count']"
      ],
      "execution_count": 0,
      "outputs": []
    },
    {
      "cell_type": "code",
      "metadata": {
        "id": "SGmZZRc8ECvy",
        "colab_type": "code",
        "colab": {}
      },
      "source": [
        "# Check processed language\n",
        "profile['processed_language']"
      ],
      "execution_count": 0,
      "outputs": []
    },
    {
      "cell_type": "code",
      "metadata": {
        "id": "LQ2R0WIaECv6",
        "colab_type": "code",
        "colab": {}
      },
      "source": [
        "# View the result\n",
        "print(json.dumps(profile, indent=2))"
      ],
      "execution_count": 0,
      "outputs": []
    },
    {
      "cell_type": "markdown",
      "metadata": {
        "id": "f0_6lkzIECwD",
        "colab_type": "text"
      },
      "source": [
        "## 4. Visualising Trait Profiles\n",
        "There are three key parts to the profile. These are the person's needs, the big 5 and their values. Each of these is stored in the returned dictionary and can be analysed."
      ]
    },
    {
      "cell_type": "code",
      "metadata": {
        "id": "N5MDorK5ECwE",
        "colab_type": "code",
        "colab": {}
      },
      "source": [
        "# Import pandas\n",
        "import pandas as pd\n",
        "# Import matplotlib\n",
        "from matplotlib import pyplot as plt\n",
        "# Import seaborn\n",
        "import seaborn as sns"
      ],
      "execution_count": 0,
      "outputs": []
    },
    {
      "cell_type": "code",
      "metadata": {
        "id": "N06MO5UeECwR",
        "colab_type": "code",
        "colab": {}
      },
      "source": [
        "# Extract needs feature from data frame\n",
        "needs = profile['needs']\n",
        "# Create neeeds dictionary\n",
        "result = {need['name']:need['percentile'] for need in needs}\n",
        "# Convert dictionary to dataframe\n",
        "df = pd.DataFrame.from_dict(result, orient='index')\n",
        "# Drop Index and rename columns\n",
        "df.reset_index(inplace=True)\n",
        "df.columns = ['need', 'percentile']\n",
        "df.head()"
      ],
      "execution_count": 0,
      "outputs": []
    },
    {
      "cell_type": "code",
      "metadata": {
        "id": "g5p-sg3UECwc",
        "colab_type": "code",
        "colab": {}
      },
      "source": [
        "plt.figure(figsize=(15,5))\n",
        "sns.barplot(y='percentile', x='need', data=df)\n",
        "plt.show()"
      ],
      "execution_count": 0,
      "outputs": []
    },
    {
      "cell_type": "code",
      "metadata": {
        "id": "1BbTdO7FECwi",
        "colab_type": "code",
        "colab": {}
      },
      "source": [
        "def create_trait_plot(traits):\n",
        "    result = {trait['name']:trait['percentile'] for trait in traits}\n",
        "    df = pd.DataFrame.from_dict(result, orient='index')\n",
        "    df.reset_index(inplace=True)\n",
        "    df.columns = ['name', 'percentile']\n",
        "    plt.figure(figsize=(15,5))\n",
        "    sns.barplot(y='percentile', x='name', data=df)\n",
        "    plt.show()"
      ],
      "execution_count": 0,
      "outputs": []
    },
    {
      "cell_type": "code",
      "metadata": {
        "id": "AthQ_AOXECws",
        "colab_type": "code",
        "colab": {}
      },
      "source": [
        "[create_trait_plot(personality_trait['children']) for personality_trait in profile['personality']]"
      ],
      "execution_count": 0,
      "outputs": []
    },
    {
      "cell_type": "code",
      "metadata": {
        "id": "Nd7dCfutECwz",
        "colab_type": "code",
        "colab": {}
      },
      "source": [
        "create_trait_plot(profile['values'])"
      ],
      "execution_count": 0,
      "outputs": []
    },
    {
      "cell_type": "markdown",
      "metadata": {
        "id": "-v71wAryECw5",
        "colab_type": "text"
      },
      "source": [
        "# Documentation\n",
        "- https://github.com/watson-developer-cloud/python-sdk/blob/master/watson_developer_cloud/personality_insights_v3.py"
      ]
    }
  ]
}